{
 "cells": [
  {
   "cell_type": "code",
   "execution_count": 1,
   "id": "8c2bdecb",
   "metadata": {},
   "outputs": [
    {
     "name": "stdout",
     "output_type": "stream",
     "text": [
      "Defaulting to user installation because normal site-packages is not writeable\n",
      "Requirement already satisfied: pandas in c:\\programdata\\anaconda3\\lib\\site-packages (2.0.3)\n",
      "Requirement already satisfied: python-dateutil>=2.8.2 in c:\\programdata\\anaconda3\\lib\\site-packages (from pandas) (2.8.2)\n",
      "Requirement already satisfied: pytz>=2020.1 in c:\\programdata\\anaconda3\\lib\\site-packages (from pandas) (2023.3.post1)\n",
      "Requirement already satisfied: tzdata>=2022.1 in c:\\programdata\\anaconda3\\lib\\site-packages (from pandas) (2023.3)\n",
      "Requirement already satisfied: numpy>=1.21.0 in c:\\programdata\\anaconda3\\lib\\site-packages (from pandas) (1.24.3)\n",
      "Requirement already satisfied: six>=1.5 in c:\\programdata\\anaconda3\\lib\\site-packages (from python-dateutil>=2.8.2->pandas) (1.16.0)\n",
      "Note: you may need to restart the kernel to use updated packages.\n"
     ]
    }
   ],
   "source": [
    "pip install pandas"
   ]
  },
  {
   "cell_type": "code",
   "execution_count": 2,
   "id": "3aaa5ab8",
   "metadata": {},
   "outputs": [
    {
     "name": "stdout",
     "output_type": "stream",
     "text": [
      "alpha    1\n",
      "beta     2\n",
      "gama     3\n",
      "delta    4\n",
      "dtype: int32\n",
      "4\n"
     ]
    }
   ],
   "source": [
    "import pandas as pd\n",
    "import numpy as np\n",
    "dt=np.array([1,2,3,4])\n",
    "sr=pd.Series(dt,index=['alpha','beta','gama','delta'])\n",
    "print(sr)\n",
    "print(sr['delta'])\n"
   ]
  },
  {
   "cell_type": "code",
   "execution_count": 3,
   "id": "8a285120",
   "metadata": {},
   "outputs": [
    {
     "name": "stdout",
     "output_type": "stream",
     "text": [
      "Series([], dtype: object)\n"
     ]
    }
   ],
   "source": [
    "import pandas as pd  \n",
    "a = pd.Series()  \n",
    "print (a)  \n"
   ]
  },
  {
   "cell_type": "code",
   "execution_count": 4,
   "id": "ece48c7d",
   "metadata": {},
   "outputs": [
    {
     "name": "stdout",
     "output_type": "stream",
     "text": [
      "name      creative\n",
      "branch    katargam\n",
      "no             333\n",
      "dtype: object\n"
     ]
    }
   ],
   "source": [
    "import pandas as pd  \n",
    "import numpy as np  \n",
    "sr = {'name' : 'creative', 'branch' : 'katargam', 'no' : 333}  \n",
    "a = pd.Series(sr)  \n",
    "print (a) \n"
   ]
  },
  {
   "cell_type": "code",
   "execution_count": 5,
   "id": "95547045",
   "metadata": {},
   "outputs": [
    {
     "name": "stdout",
     "output_type": "stream",
     "text": [
      "0    4\n",
      "1    4\n",
      "2    4\n",
      "3    4\n",
      "dtype: int64\n"
     ]
    }
   ],
   "source": [
    "import pandas as pd  \n",
    "import numpy as np  \n",
    "sr=pd.Series(4,index=[0,1,2,3])\n",
    "print(sr)\n",
    "\n"
   ]
  },
  {
   "cell_type": "code",
   "execution_count": 10,
   "id": "08f18744",
   "metadata": {},
   "outputs": [
    {
     "name": "stdout",
     "output_type": "stream",
     "text": [
      "[ 1  2  3  4 12]\n"
     ]
    }
   ],
   "source": [
    "import pandas as pd\n",
    "import pandas as pd\n",
    "import numpy as np\n",
    "dt=np.array([1,2,3,4 ,12])\n",
    "sr=pd.Series(dt,index=['alpha','beta','gama','delta','Epsilon',])\n",
    "print(sr)\n",
    "print(sr.empty)\n",
    "print(sr.hasnans)\n",
    "print(len(sr))\n",
    "print(sr.count)\n",
    "print(sr.shape)\n",
    "print(sr.nbytes)\n"
   ]
  },
  {
   "cell_type": "code",
   "execution_count": 7,
   "id": "1cdff41f",
   "metadata": {
    "scrolled": false
   },
   "outputs": [
    {
     "name": "stdout",
     "output_type": "stream",
     "text": [
      "RangeIndex(start=0, stop=5, step=1)\n",
      "[12 34 56 67 78]\n",
      "Index(['a', 'b', 'c'], dtype='object')\n",
      "[10.5 20.5 30.5]\n"
     ]
    }
   ],
   "source": [
    "import pandas as pd   \n",
    "a=pd.Series(data=[12,34,56,67,78])   \n",
    "b=pd.Series(data=[10.5,20.5,30.5], index=['a','b','c'])   \n",
    "print(a.index)   \n",
    "print(a.values)   \n",
    "print(b.index)   \n",
    "print(b.values)\n"
   ]
  },
  {
   "cell_type": "code",
   "execution_count": 8,
   "id": "ac99bb6c",
   "metadata": {},
   "outputs": [
    {
     "name": "stdout",
     "output_type": "stream",
     "text": [
      "alpha    1\n",
      "beta     2\n",
      "gama     3\n",
      "delta    4\n",
      "dtype: int32\n",
      "(4,)\n"
     ]
    }
   ],
   "source": [
    "import pandas as pd\n",
    "import numpy as np\n",
    "dt=np.array([1,2,3,4])\n",
    "sr=pd.Series(dt,index=['alpha','beta','gama','delta'])\n",
    "print(sr)\n",
    "print(sr.shape) "
   ]
  },
  {
   "cell_type": "code",
   "execution_count": 9,
   "id": "613451b9",
   "metadata": {},
   "outputs": [
    {
     "name": "stdout",
     "output_type": "stream",
     "text": [
      "float64\n"
     ]
    }
   ],
   "source": [
    "import numpy as np\n",
    "import pandas as pd\n",
    "a=pd.Series(data=[12,34,56,67,78])\n",
    "b=pd.Series(data=[10.5,20.5,30.5], index=['a','b','c'])\n",
    "print(b.dtype) "
   ]
  },
  {
   "cell_type": "code",
   "execution_count": 10,
   "id": "763ef494",
   "metadata": {},
   "outputs": [
    {
     "name": "stdout",
     "output_type": "stream",
     "text": [
      "['C', 'D', 'M', 'I']\n"
     ]
    }
   ],
   "source": [
    "import pandas as pd\n",
    "\n",
    "word_list = pd.Series(['CREATIVE', 'DESIGN', '&', 'MULTIMEDIA', 'INSTITUTE'])\n",
    "\n",
    "output = []\n",
    "\n",
    "for word in word_list:\n",
    "    if word.isalpha():\n",
    "        output += word[0]\n",
    "\n",
    "print(output)\n"
   ]
  },
  {
   "cell_type": "code",
   "execution_count": 2,
   "id": "36ae6d15",
   "metadata": {},
   "outputs": [
    {
     "name": "stdout",
     "output_type": "stream",
     "text": [
      "enter a latter:c\n",
      "['CREATIVE']\n"
     ]
    }
   ],
   "source": [
    "import pandas as pd\n",
    "\n",
    "word_list = ['CREATIVE', 'DESIGN', '&', 'MULTIMEDIA', 'INSTITUTE']\n",
    "output = []\n",
    "value =input(\"enter a latter:\").upper()\n",
    "\n",
    "for i in range (len(word_list)):\n",
    "    if value==word_list[i][0]:\n",
    "        output.append(word_list[i])\n",
    "print(output)"
   ]
  },
  {
   "cell_type": "code",
   "execution_count": 12,
   "id": "af46a7b2",
   "metadata": {},
   "outputs": [
    {
     "name": "stdout",
     "output_type": "stream",
     "text": [
      "Count list: [8, 6, 1, 10, 9]\n"
     ]
    }
   ],
   "source": [
    "word_list = ['CREATIVE', 'DESIGN', '&', 'MULTIMEDIA', 'INSTITUTE']\n",
    "\n",
    "output = []\n",
    "\n",
    "for word in word_list:\n",
    "    output.append(len(word))\n",
    "\n",
    "print(\"Count list:\", output)\n"
   ]
  },
  {
   "cell_type": "code",
   "execution_count": 2,
   "id": "b7b055ea",
   "metadata": {},
   "outputs": [
    {
     "name": "stdout",
     "output_type": "stream",
     "text": [
      "transposed series\n",
      " 0    3\n",
      "1    1\n",
      "2    2\n",
      "3    5\n",
      "4    4\n",
      "dtype: int64\n",
      "sort series\n",
      " 1    1\n",
      "2    2\n",
      "0    3\n",
      "4    4\n",
      "3    5\n",
      "dtype: int64\n",
      "discription\n",
      " count    5.000000\n",
      "mean     3.000000\n",
      "std      1.581139\n",
      "min      1.000000\n",
      "25%      2.000000\n",
      "50%      3.000000\n",
      "75%      4.000000\n",
      "max      5.000000\n",
      "dtype: float64\n",
      "first element\n",
      " 0    3\n",
      "1    1\n",
      "2    2\n",
      "3    5\n",
      "4    4\n",
      "dtype: int64\n",
      "small element\n",
      " 1    1\n",
      "2    2\n",
      "0    3\n",
      "4    4\n",
      "3    5\n",
      "dtype: int64\n",
      "[3, 1, 2, 5, 4]\n"
     ]
    }
   ],
   "source": [
    "import pandas as pd\n",
    "\n",
    "\n",
    "s = pd.Series([3, 1, 2, 5, 4])\n",
    "\n",
    "\n",
    "\n",
    "transposed_series = s.T\n",
    "print(\"transposed series\\n\",transposed_series)\n",
    "\n",
    "series = s.sort_values()\n",
    "print(\"sort series\\n\",series)\n",
    "\n",
    "description = s.describe()\n",
    "print(\"discription\\n\",description)\n",
    "\n",
    "first_elements = s.head(10)\n",
    "print(\"first element\\n\",first_elements)\n",
    "\n",
    "small_elements = s.nsmallest()\n",
    "print(\"small element\\n\",small_elements)\n",
    "\n",
    "list_data = s.tolist()\n",
    "print(list_data)"
   ]
  },
  {
   "cell_type": "code",
   "execution_count": 5,
   "id": "fc95b1cd",
   "metadata": {},
   "outputs": [
    {
     "data": {
      "text/html": [
       "<div>\n",
       "<style scoped>\n",
       "    .dataframe tbody tr th:only-of-type {\n",
       "        vertical-align: middle;\n",
       "    }\n",
       "\n",
       "    .dataframe tbody tr th {\n",
       "        vertical-align: top;\n",
       "    }\n",
       "\n",
       "    .dataframe thead th {\n",
       "        text-align: right;\n",
       "    }\n",
       "</style>\n",
       "<table border=\"1\" class=\"dataframe\">\n",
       "  <thead>\n",
       "    <tr style=\"text-align: right;\">\n",
       "      <th></th>\n",
       "      <th>0</th>\n",
       "      <th>1</th>\n",
       "      <th>2</th>\n",
       "      <th>3</th>\n",
       "      <th>4</th>\n",
       "    </tr>\n",
       "  </thead>\n",
       "  <tbody>\n",
       "    <tr>\n",
       "      <th>0</th>\n",
       "      <td>12</td>\n",
       "      <td>34</td>\n",
       "      <td>56</td>\n",
       "      <td>67</td>\n",
       "      <td>78</td>\n",
       "    </tr>\n",
       "    <tr>\n",
       "      <th>1</th>\n",
       "      <td>12</td>\n",
       "      <td>34</td>\n",
       "      <td>56</td>\n",
       "      <td>67</td>\n",
       "      <td>78</td>\n",
       "    </tr>\n",
       "  </tbody>\n",
       "</table>\n",
       "</div>"
      ],
      "text/plain": [
       "    0   1   2   3   4\n",
       "0  12  34  56  67  78\n",
       "1  12  34  56  67  78"
      ]
     },
     "execution_count": 5,
     "metadata": {},
     "output_type": "execute_result"
    }
   ],
   "source": [
    "a=[[12,34,56,67,78],[12,34,56,67,78]]\n",
    "df=pd.DataFrame(a)\n",
    "df"
   ]
  },
  {
   "cell_type": "code",
   "execution_count": 7,
   "id": "9828b5e3",
   "metadata": {},
   "outputs": [
    {
     "name": "stdout",
     "output_type": "stream",
     "text": [
      "Empty DataFrame\n",
      "Columns: []\n",
      "Index: []\n"
     ]
    }
   ],
   "source": [
    "import pandas as pd  \n",
    "df = pd.DataFrame()  \n",
    "print (df)\n"
   ]
  },
  {
   "cell_type": "code",
   "execution_count": 9,
   "id": "934fbc13",
   "metadata": {},
   "outputs": [
    {
     "name": "stdout",
     "output_type": "stream",
     "text": [
      "    0\n",
      "0  10\n",
      "1  11\n",
      "2  12\n",
      "3  13\n",
      "4  14\n",
      "5  55\n"
     ]
    }
   ],
   "source": [
    "import pandas as pd \n",
    "l=[10,11,12,13,14,55]\n",
    "\n",
    "df = pd.DataFrame(l)  \n",
    "print (df) \n"
   ]
  },
  {
   "cell_type": "code",
   "execution_count": 10,
   "id": "ad35fc34",
   "metadata": {},
   "outputs": [
    {
     "name": "stdout",
     "output_type": "stream",
     "text": [
      "   id      name\n",
      "0   1    haresh\n",
      "1   2  shailesh\n",
      "2   3     mohit\n"
     ]
    }
   ],
   "source": [
    "import pandas as pd \n",
    "l={'id':[1,2,3],'name':['haresh','shailesh','mohit']}\n",
    "\n",
    "df = pd.DataFrame(l)  \n",
    "print (df) \n"
   ]
  },
  {
   "cell_type": "code",
   "execution_count": 11,
   "id": "179713db",
   "metadata": {},
   "outputs": [
    {
     "name": "stdout",
     "output_type": "stream",
     "text": [
      "   design  android\n",
      "a       1       10\n",
      "b       2       11\n",
      "c       3       12\n"
     ]
    }
   ],
   "source": [
    "import pandas as pd \n",
    "\n",
    "ans={'design':pd.Series([1,2,3],index=['a','b','c']),'android':pd.Series([10,11,12],index=['a','b','c'])}\n",
    "\n",
    "rs=pd.DataFrame(ans)\n",
    "print(rs)\n"
   ]
  },
  {
   "cell_type": "code",
   "execution_count": 12,
   "id": "d02508da",
   "metadata": {},
   "outputs": [
    {
     "data": {
      "text/plain": [
       "a    1\n",
       "b    2\n",
       "c    3\n",
       "Name: design, dtype: int64"
      ]
     },
     "execution_count": 12,
     "metadata": {},
     "output_type": "execute_result"
    }
   ],
   "source": [
    "import pandas as pd \n",
    "\n",
    "ans={'design':pd.Series([1,2,3],index=['a','b','c']),'android':pd.Series([10,11,12],index=['a','b','c'])}\n",
    "\n",
    "rs=pd.DataFrame(ans)\n",
    "rs['design']\n"
   ]
  },
  {
   "cell_type": "code",
   "execution_count": 14,
   "id": "e3d4756f",
   "metadata": {},
   "outputs": [
    {
     "name": "stdout",
     "output_type": "stream",
     "text": [
      "   design  android  flutter\n",
      "a       1       10       20\n",
      "b       2       11       30\n",
      "c       3       12       40\n"
     ]
    }
   ],
   "source": [
    "import pandas as pd \n",
    "\n",
    "ans={'design':pd.Series([1,2,3],index=['a','b','c']),'android':pd.Series([10,11,12],index=['a','b','c'])}\n",
    "\n",
    "rs=pd.DataFrame(ans)\n",
    "rs['flutter']=pd.Series([20,30,40],index=['a','b','c'])\n",
    "print(rs)\n"
   ]
  },
  {
   "cell_type": "code",
   "execution_count": 16,
   "id": "0763072f",
   "metadata": {},
   "outputs": [
    {
     "name": "stdout",
     "output_type": "stream",
     "text": [
      "   design  android  flutter  python\n",
      "a       1       10       20      30\n",
      "b       2       11       30      41\n",
      "c       3       12       40      52\n"
     ]
    }
   ],
   "source": [
    "ans={'design':pd.Series([1,2,3],index=['a','b','c']),'android':pd.Series([10,11,12],index=['a','b','c'])}\n",
    "\n",
    "rs=pd.DataFrame(ans)\n",
    "rs['flutter']=pd.Series([20,30,40],index=['a','b','c'])\n",
    "\n",
    "rs['python']=rs['flutter']+rs['android']\n",
    "print(rs)\n"
   ]
  }
 ],
 "metadata": {
  "kernelspec": {
   "display_name": "Python 3 (ipykernel)",
   "language": "python",
   "name": "python3"
  },
  "language_info": {
   "codemirror_mode": {
    "name": "ipython",
    "version": 3
   },
   "file_extension": ".py",
   "mimetype": "text/x-python",
   "name": "python",
   "nbconvert_exporter": "python",
   "pygments_lexer": "ipython3",
   "version": "3.11.5"
  }
 },
 "nbformat": 4,
 "nbformat_minor": 5
}
