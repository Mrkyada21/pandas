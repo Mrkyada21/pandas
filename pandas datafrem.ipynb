{
 "cells": [
  {
   "cell_type": "code",
   "execution_count": 34,
   "id": "4aeec8a4",
   "metadata": {},
   "outputs": [
    {
     "data": {
      "text/html": [
       "<div>\n",
       "<style scoped>\n",
       "    .dataframe tbody tr th:only-of-type {\n",
       "        vertical-align: middle;\n",
       "    }\n",
       "\n",
       "    .dataframe tbody tr th {\n",
       "        vertical-align: top;\n",
       "    }\n",
       "\n",
       "    .dataframe thead th {\n",
       "        text-align: right;\n",
       "    }\n",
       "</style>\n",
       "<table border=\"1\" class=\"dataframe\">\n",
       "  <thead>\n",
       "    <tr style=\"text-align: right;\">\n",
       "      <th></th>\n",
       "      <th>0</th>\n",
       "      <th>1</th>\n",
       "      <th>2</th>\n",
       "      <th>3</th>\n",
       "      <th>4</th>\n",
       "    </tr>\n",
       "  </thead>\n",
       "  <tbody>\n",
       "    <tr>\n",
       "      <th>0</th>\n",
       "      <td>12</td>\n",
       "      <td>34</td>\n",
       "      <td>56</td>\n",
       "      <td>67</td>\n",
       "      <td>78</td>\n",
       "    </tr>\n",
       "    <tr>\n",
       "      <th>1</th>\n",
       "      <td>12</td>\n",
       "      <td>34</td>\n",
       "      <td>56</td>\n",
       "      <td>67</td>\n",
       "      <td>78</td>\n",
       "    </tr>\n",
       "  </tbody>\n",
       "</table>\n",
       "</div>"
      ],
      "text/plain": [
       "    0   1   2   3   4\n",
       "0  12  34  56  67  78\n",
       "1  12  34  56  67  78"
      ]
     },
     "execution_count": 34,
     "metadata": {},
     "output_type": "execute_result"
    }
   ],
   "source": [
    "import pandas as pd\n",
    "a=[[12,34,56,67,78],[12,34,56,67,78]]\n",
    "df=pd.DataFrame(a)\n",
    "df"
   ]
  },
  {
   "cell_type": "code",
   "execution_count": 35,
   "id": "54fd213b",
   "metadata": {},
   "outputs": [
    {
     "name": "stdout",
     "output_type": "stream",
     "text": [
      "Empty DataFrame\n",
      "Columns: []\n",
      "Index: []\n"
     ]
    }
   ],
   "source": [
    "import pandas as pd  \n",
    "df = pd.DataFrame()  \n",
    "print (df)"
   ]
  },
  {
   "cell_type": "code",
   "execution_count": 36,
   "id": "5a5e92d0",
   "metadata": {},
   "outputs": [
    {
     "name": "stdout",
     "output_type": "stream",
     "text": [
      "    0\n",
      "0  10\n",
      "1  11\n",
      "2  12\n",
      "3  13\n",
      "4  14\n",
      "5  55\n"
     ]
    }
   ],
   "source": [
    "import pandas as pd \n",
    "l=[10,11,12,13,14,55]\n",
    "\n",
    "df = pd.DataFrame(l)  \n",
    "print (df) "
   ]
  },
  {
   "cell_type": "code",
   "execution_count": 37,
   "id": "a0897fbc",
   "metadata": {},
   "outputs": [
    {
     "name": "stdout",
     "output_type": "stream",
     "text": [
      "   id      name  contact number\n",
      "0   1    haresh      9199138413\n",
      "1   2  shailesh      2454673221\n",
      "2   3     mohit      1357974268\n"
     ]
    }
   ],
   "source": [
    "import pandas as pd \n",
    "l={'id':[1,2,3],'name':['haresh','shailesh','mohit'],'contact number':[9199138413,2454673221,1357974268]}\n",
    "\n",
    "df = pd.DataFrame(l)  \n",
    "print (df) "
   ]
  },
  {
   "cell_type": "code",
   "execution_count": 38,
   "id": "168ddf93",
   "metadata": {},
   "outputs": [
    {
     "name": "stdout",
     "output_type": "stream",
     "text": [
      "   design  android  flutter\n",
      "a       1       10       20\n",
      "b       2       11       30\n",
      "c       3       12       40\n"
     ]
    }
   ],
   "source": [
    "import pandas as pd  \n",
    " \n",
    "ans={'design':pd.Series([1,2,3],index=['a','b','c']),'android':pd.Series([10,11,12],index=['a','b','c'])} \n",
    " \n",
    "rs=pd.DataFrame(ans) \n",
    "rs['flutter']=pd.Series([20,30,40],index=['a','b','c']) \n",
    "print(rs) "
   ]
  },
  {
   "cell_type": "code",
   "execution_count": 39,
   "id": "b29655d4",
   "metadata": {},
   "outputs": [
    {
     "name": "stdout",
     "output_type": "stream",
     "text": [
      "   design  android  flutter\n",
      "a       1       10       20\n",
      "b       2       11       30\n",
      "c       3       12       40\n"
     ]
    }
   ],
   "source": [
    "import pandas as pd \n",
    "\n",
    "ans={'design':pd.Series([1,2,3],index=['a','b','c']),'android':pd.Series([10,11,12],index=['a','b','c'])}\n",
    "\n",
    "rs=pd.DataFrame(ans)\n",
    "rs['flutter']=pd.Series([20,30,40],index=['a','b','c'])\n",
    "print(rs)\n"
   ]
  },
  {
   "cell_type": "code",
   "execution_count": 40,
   "id": "9a778ac6",
   "metadata": {},
   "outputs": [
    {
     "name": "stdout",
     "output_type": "stream",
     "text": [
      "   design  android  flutter  python\n",
      "a       1       10       20      11\n",
      "b       2       11       30      13\n",
      "c       3       12       40      15\n"
     ]
    }
   ],
   "source": [
    "import pandas as pd  \n",
    " \n",
    "ans={'design':pd.Series([1,2,3],index=['a','b','c']),'android':pd.Series([10,11,12],index=['a','b','c'])} \n",
    " \n",
    "rs=pd.DataFrame(ans) \n",
    "rs['flutter']=pd.Series([20,30,40],index=['a','b','c']) \n",
    " \n",
    "rs['python']=rs['design']+rs['android'] \n",
    "print(rs) "
   ]
  },
  {
   "cell_type": "code",
   "execution_count": 41,
   "id": "84838679",
   "metadata": {},
   "outputs": [
    {
     "name": "stdout",
     "output_type": "stream",
     "text": [
      "   design  android  flutter  python\n",
      "a       1       10       20      11\n",
      "b       2       11       30      13\n",
      "c       3       12       40      15\n",
      "   android  flutter  python\n",
      "a       10       20      11\n",
      "b       11       30      13\n",
      "c       12       40      15\n"
     ]
    }
   ],
   "source": [
    "import pandas as pd  \n",
    " \n",
    "ans={'design':pd.Series([1,2,3],index=['a','b','c']),'android':pd.Series([10,11,12],index=['a','b','c'])} \n",
    " \n",
    "rs=pd.DataFrame(ans) \n",
    "rs['flutter']=pd.Series([20,30,40],index=['a','b','c']) \n",
    " \n",
    "rs['python']=rs['design']+rs['android'] \n",
    "print(rs) \n",
    " \n",
    "del rs['design'] \n",
    "print(rs) \n",
    " \n",
    "# rs.pop('design') "
   ]
  },
  {
   "cell_type": "code",
   "execution_count": 42,
   "id": "1fb7c52e",
   "metadata": {
    "scrolled": true
   },
   "outputs": [
    {
     "name": "stdout",
     "output_type": "stream",
     "text": [
      "   design  android  flutter  python\n",
      "a       1       10       20      11\n",
      "b       2       11       30      13\n",
      "c       3       12       40      15\n",
      "a    10\n",
      "b    11\n",
      "c    12\n",
      "Name: android, dtype: int64\n"
     ]
    }
   ],
   "source": [
    "import pandas as pd  \n",
    " \n",
    "ans={'design':pd.Series([1,2,3],index=['a','b','c']),'android':pd.Series([10,11,12],index=['a','b','c'])} \n",
    " \n",
    "rs=pd.DataFrame(ans)\n",
    "rs['flutter']=pd.Series([20,30,40],index=['a','b','c']) \n",
    " \n",
    "rs['python']=rs['design']+rs['android'] \n",
    "print(rs)\n",
    "print(rs.android)"
   ]
  },
  {
   "cell_type": "code",
   "execution_count": 43,
   "id": "3bf43903",
   "metadata": {},
   "outputs": [
    {
     "name": "stdout",
     "output_type": "stream",
     "text": [
      "   id      name  contact number\n",
      "0   1    haresh      9199138413\n",
      "1   2  shailesh      2454673221\n",
      "2   3     mohit      1357974268\n"
     ]
    },
    {
     "data": {
      "text/plain": [
       "id                         1\n",
       "name                  haresh\n",
       "contact number    9199138413\n",
       "Name: 0, dtype: object"
      ]
     },
     "execution_count": 43,
     "metadata": {},
     "output_type": "execute_result"
    }
   ],
   "source": [
    "import pandas as pd \n",
    "l={'id':[1,2,3],'name':['haresh','shailesh','mohit'],'contact number':[9199138413,2454673221,1357974268]}\n",
    "\n",
    "df = pd.DataFrame(l)  \n",
    "print (df) \n",
    "df.loc[0] "
   ]
  },
  {
   "cell_type": "code",
   "execution_count": 44,
   "id": "e0a512bd",
   "metadata": {},
   "outputs": [
    {
     "data": {
      "text/plain": [
       "1    shailesh\n",
       "Name: name, dtype: object"
      ]
     },
     "execution_count": 44,
     "metadata": {},
     "output_type": "execute_result"
    }
   ],
   "source": [
    "df.loc[1:1,'name'] "
   ]
  },
  {
   "cell_type": "code",
   "execution_count": 45,
   "id": "4b414af1",
   "metadata": {},
   "outputs": [
    {
     "data": {
      "text/html": [
       "<div>\n",
       "<style scoped>\n",
       "    .dataframe tbody tr th:only-of-type {\n",
       "        vertical-align: middle;\n",
       "    }\n",
       "\n",
       "    .dataframe tbody tr th {\n",
       "        vertical-align: top;\n",
       "    }\n",
       "\n",
       "    .dataframe thead th {\n",
       "        text-align: right;\n",
       "    }\n",
       "</style>\n",
       "<table border=\"1\" class=\"dataframe\">\n",
       "  <thead>\n",
       "    <tr style=\"text-align: right;\">\n",
       "      <th></th>\n",
       "      <th>id</th>\n",
       "      <th>name</th>\n",
       "      <th>contact number</th>\n",
       "    </tr>\n",
       "  </thead>\n",
       "  <tbody>\n",
       "    <tr>\n",
       "      <th>0</th>\n",
       "      <td>1</td>\n",
       "      <td>haresh</td>\n",
       "      <td>9199138413</td>\n",
       "    </tr>\n",
       "    <tr>\n",
       "      <th>2</th>\n",
       "      <td>3</td>\n",
       "      <td>mohit</td>\n",
       "      <td>1357974268</td>\n",
       "    </tr>\n",
       "  </tbody>\n",
       "</table>\n",
       "</div>"
      ],
      "text/plain": [
       "   id    name  contact number\n",
       "0   1  haresh      9199138413\n",
       "2   3   mohit      1357974268"
      ]
     },
     "execution_count": 45,
     "metadata": {},
     "output_type": "execute_result"
    }
   ],
   "source": [
    "df.loc[[0,2]] "
   ]
  },
  {
   "cell_type": "code",
   "execution_count": 46,
   "id": "6f9a6282",
   "metadata": {},
   "outputs": [
    {
     "data": {
      "text/html": [
       "<div>\n",
       "<style scoped>\n",
       "    .dataframe tbody tr th:only-of-type {\n",
       "        vertical-align: middle;\n",
       "    }\n",
       "\n",
       "    .dataframe tbody tr th {\n",
       "        vertical-align: top;\n",
       "    }\n",
       "\n",
       "    .dataframe thead th {\n",
       "        text-align: right;\n",
       "    }\n",
       "</style>\n",
       "<table border=\"1\" class=\"dataframe\">\n",
       "  <thead>\n",
       "    <tr style=\"text-align: right;\">\n",
       "      <th></th>\n",
       "      <th>name</th>\n",
       "      <th>id</th>\n",
       "    </tr>\n",
       "  </thead>\n",
       "  <tbody>\n",
       "    <tr>\n",
       "      <th>0</th>\n",
       "      <td>haresh</td>\n",
       "      <td>1</td>\n",
       "    </tr>\n",
       "    <tr>\n",
       "      <th>1</th>\n",
       "      <td>shailesh</td>\n",
       "      <td>2</td>\n",
       "    </tr>\n",
       "    <tr>\n",
       "      <th>2</th>\n",
       "      <td>mohit</td>\n",
       "      <td>3</td>\n",
       "    </tr>\n",
       "  </tbody>\n",
       "</table>\n",
       "</div>"
      ],
      "text/plain": [
       "       name  id\n",
       "0    haresh   1\n",
       "1  shailesh   2\n",
       "2     mohit   3"
      ]
     },
     "execution_count": 46,
     "metadata": {},
     "output_type": "execute_result"
    }
   ],
   "source": [
    "df.loc[:,[\"name\",'id']] "
   ]
  },
  {
   "cell_type": "code",
   "execution_count": 47,
   "id": "3d6b639b",
   "metadata": {},
   "outputs": [
    {
     "data": {
      "text/html": [
       "<div>\n",
       "<style scoped>\n",
       "    .dataframe tbody tr th:only-of-type {\n",
       "        vertical-align: middle;\n",
       "    }\n",
       "\n",
       "    .dataframe tbody tr th {\n",
       "        vertical-align: top;\n",
       "    }\n",
       "\n",
       "    .dataframe thead th {\n",
       "        text-align: right;\n",
       "    }\n",
       "</style>\n",
       "<table border=\"1\" class=\"dataframe\">\n",
       "  <thead>\n",
       "    <tr style=\"text-align: right;\">\n",
       "      <th></th>\n",
       "      <th>id</th>\n",
       "      <th>name</th>\n",
       "      <th>contact number</th>\n",
       "    </tr>\n",
       "  </thead>\n",
       "  <tbody>\n",
       "    <tr>\n",
       "      <th>0</th>\n",
       "      <td>1</td>\n",
       "      <td>haresh</td>\n",
       "      <td>9199138413</td>\n",
       "    </tr>\n",
       "    <tr>\n",
       "      <th>1</th>\n",
       "      <td>2</td>\n",
       "      <td>shailesh</td>\n",
       "      <td>2454673221</td>\n",
       "    </tr>\n",
       "    <tr>\n",
       "      <th>2</th>\n",
       "      <td>3</td>\n",
       "      <td>mohit</td>\n",
       "      <td>1357974268</td>\n",
       "    </tr>\n",
       "  </tbody>\n",
       "</table>\n",
       "</div>"
      ],
      "text/plain": [
       "   id      name  contact number\n",
       "0   1    haresh      9199138413\n",
       "1   2  shailesh      2454673221\n",
       "2   3     mohit      1357974268"
      ]
     },
     "execution_count": 47,
     "metadata": {},
     "output_type": "execute_result"
    }
   ],
   "source": [
    "df.loc[0:3] "
   ]
  },
  {
   "cell_type": "code",
   "execution_count": 48,
   "id": "6902a26c",
   "metadata": {
    "scrolled": true
   },
   "outputs": [
    {
     "data": {
      "text/html": [
       "<div>\n",
       "<style scoped>\n",
       "    .dataframe tbody tr th:only-of-type {\n",
       "        vertical-align: middle;\n",
       "    }\n",
       "\n",
       "    .dataframe tbody tr th {\n",
       "        vertical-align: top;\n",
       "    }\n",
       "\n",
       "    .dataframe thead th {\n",
       "        text-align: right;\n",
       "    }\n",
       "</style>\n",
       "<table border=\"1\" class=\"dataframe\">\n",
       "  <thead>\n",
       "    <tr style=\"text-align: right;\">\n",
       "      <th></th>\n",
       "      <th>id</th>\n",
       "      <th>name</th>\n",
       "    </tr>\n",
       "  </thead>\n",
       "  <tbody>\n",
       "    <tr>\n",
       "      <th>0</th>\n",
       "      <td>1</td>\n",
       "      <td>haresh</td>\n",
       "    </tr>\n",
       "    <tr>\n",
       "      <th>1</th>\n",
       "      <td>2</td>\n",
       "      <td>shailesh</td>\n",
       "    </tr>\n",
       "    <tr>\n",
       "      <th>2</th>\n",
       "      <td>3</td>\n",
       "      <td>mohit</td>\n",
       "    </tr>\n",
       "  </tbody>\n",
       "</table>\n",
       "</div>"
      ],
      "text/plain": [
       "   id      name\n",
       "0   1    haresh\n",
       "1   2  shailesh\n",
       "2   3     mohit"
      ]
     },
     "execution_count": 48,
     "metadata": {},
     "output_type": "execute_result"
    }
   ],
   "source": [
    "df.loc[:,\"id\":\"name\"] "
   ]
  },
  {
   "cell_type": "code",
   "execution_count": 49,
   "id": "9b320f4b",
   "metadata": {
    "scrolled": false
   },
   "outputs": [
    {
     "name": "stdout",
     "output_type": "stream",
     "text": [
      "id                         2\n",
      "name                shailesh\n",
      "contact number    2454673221\n",
      "Name: 1, dtype: object\n"
     ]
    }
   ],
   "source": [
    "print(df.iloc[1])"
   ]
  },
  {
   "cell_type": "code",
   "execution_count": 50,
   "id": "434f62be",
   "metadata": {},
   "outputs": [
    {
     "name": "stdout",
     "output_type": "stream",
     "text": [
      "1357974268\n"
     ]
    }
   ],
   "source": [
    "print(df.iloc[2, 2])"
   ]
  },
  {
   "cell_type": "code",
   "execution_count": 51,
   "id": "41ef264f",
   "metadata": {},
   "outputs": [
    {
     "name": "stdout",
     "output_type": "stream",
     "text": [
      "    color  bag  total\n",
      "0     red    3      3\n",
      "1   brown    4      4\n",
      "2  yellow    3      3\n"
     ]
    },
    {
     "data": {
      "text/html": [
       "<div>\n",
       "<style scoped>\n",
       "    .dataframe tbody tr th:only-of-type {\n",
       "        vertical-align: middle;\n",
       "    }\n",
       "\n",
       "    .dataframe tbody tr th {\n",
       "        vertical-align: top;\n",
       "    }\n",
       "\n",
       "    .dataframe thead th {\n",
       "        text-align: right;\n",
       "    }\n",
       "</style>\n",
       "<table border=\"1\" class=\"dataframe\">\n",
       "  <thead>\n",
       "    <tr style=\"text-align: right;\">\n",
       "      <th></th>\n",
       "      <th>total</th>\n",
       "      <th>total</th>\n",
       "    </tr>\n",
       "  </thead>\n",
       "  <tbody>\n",
       "    <tr>\n",
       "      <th>0</th>\n",
       "      <td>3</td>\n",
       "      <td>3</td>\n",
       "    </tr>\n",
       "    <tr>\n",
       "      <th>1</th>\n",
       "      <td>4</td>\n",
       "      <td>4</td>\n",
       "    </tr>\n",
       "    <tr>\n",
       "      <th>2</th>\n",
       "      <td>3</td>\n",
       "      <td>3</td>\n",
       "    </tr>\n",
       "  </tbody>\n",
       "</table>\n",
       "</div>"
      ],
      "text/plain": [
       "   total  total\n",
       "0      3      3\n",
       "1      4      4\n",
       "2      3      3"
      ]
     },
     "execution_count": 51,
     "metadata": {},
     "output_type": "execute_result"
    }
   ],
   "source": [
    "import pandas as pd \n",
    "l={'color':['red', 'brown', 'yellow' ],'bag':[3,4,3],'total':[3,4,3]}\n",
    "\n",
    "df = pd.DataFrame(l)  \n",
    "print (df) \n",
    "df.iloc[:,[2,2]]"
   ]
  },
  {
   "cell_type": "code",
   "execution_count": 52,
   "id": "3fa6a350",
   "metadata": {},
   "outputs": [
    {
     "name": "stdout",
     "output_type": "stream",
     "text": [
      "    color  t-shirt  shirt\n",
      "0     red        3      3\n",
      "1   brown        4      4\n",
      "2  yellow        3      3\n",
      "3    blue        2      2\n",
      "4   black        6      6\n",
      "5   green        3      9\n",
      "6     red        1      1\n",
      "7  Orange        3      8\n",
      "8   White        7      7\n",
      "9  Purple        1      5\n",
      "   t-shirt  shirt\n",
      "1        4      4\n",
      "2        3      3\n",
      "3        2      2\n",
      "4        6      6\n",
      "5        3      9\n",
      "6        1      1\n",
      "7        3      8\n",
      "8        7      7\n",
      "9        1      5\n"
     ]
    }
   ],
   "source": [
    "import pandas as pd \n",
    "\n",
    "l = {'color': ['red', 'brown', 'yellow','blue','black','green','red','Orange','White','Purple'], 't-shirt': [3,4,3,2,6,3,1,3,7,1], 'shirt': [3,4,3,2,6,9,1,8,7,5]}\n",
    "\n",
    "df = pd.DataFrame(l)\n",
    "print(df)\n",
    "# color index remove\n",
    "df = df.drop('color', axis=1)\n",
    "print(df.iloc[1:])"
   ]
  },
  {
   "cell_type": "code",
   "execution_count": 53,
   "id": "4d74b7c7",
   "metadata": {},
   "outputs": [
    {
     "name": "stdout",
     "output_type": "stream",
     "text": [
      "    color  t-shirt  shirt\n",
      "1   brown        4      4\n",
      "3    blue        2      2\n",
      "5   green        3      3\n",
      "7  Orange        3      3\n",
      "9  Purple        1      1\n"
     ]
    }
   ],
   "source": [
    "import pandas as pd \n",
    "\n",
    "l = {'color': ['red', 'brown', 'yellow','blue','black','green','red','Orange','White','Purple'], 't-shirt': [3,4,3,2,6,3,1,3,7,1], 'shirt': [3,4,3,2,6,3,1,3,7,1]}\n",
    "\n",
    "df = pd.DataFrame(l)\n",
    "\n",
    "# only odd number print\n",
    "print(df.iloc[1::2])"
   ]
  },
  {
   "cell_type": "code",
   "execution_count": 54,
   "id": "edc4549d",
   "metadata": {},
   "outputs": [
    {
     "name": "stdout",
     "output_type": "stream",
     "text": [
      "    color  t-shirt  shirt\n",
      "1   brown        4      4\n",
      "3    blue        2      2\n",
      "4   black        6      6\n",
      "6     red        1      1\n",
      "8   White        7      7\n",
      "9  Purple        1      1\n"
     ]
    }
   ],
   "source": [
    "import pandas as pd\n",
    "\n",
    "l = {'color': ['red', 'brown', 'yellow','blue','black','green','red','Orange','White','Purple'], 't-shirt': [3,4,3,2,6,3,1,3,7,1], 'shirt': [3,4,3,2,6,3,1,3,7,1]}\n",
    "\n",
    "df = pd.DataFrame(l)\n",
    "\n",
    "# 3 number remove\n",
    "df = df[(df['t-shirt'] != 3) & (df['shirt'] != 3)]\n",
    "\n",
    "print(df)"
   ]
  },
  {
   "cell_type": "code",
   "execution_count": 55,
   "id": "3ea99f0e",
   "metadata": {},
   "outputs": [
    {
     "name": "stdout",
     "output_type": "stream",
     "text": [
      "    color  t-shirt  shirt\n",
      "0     red        3      3\n",
      "1   brown        4      4\n",
      "2  yellow        3      3\n",
      "3    blue        2      2\n",
      "5   green        3      3\n",
      "6     red        1      1\n",
      "7  Orange        3      3\n",
      "9  Purple        1      1\n"
     ]
    }
   ],
   "source": [
    "import pandas as pd\n",
    "l = {'color': ['red', 'brown', 'yellow','blue','black','green','red','Orange','White','Purple'], 't-shirt': [3,4,3,2,6,3,1,3,7,1], 'shirt': [3,4,3,2,6,3,1,3,7,1]}\n",
    "df = pd.DataFrame(l)\n",
    "filtered_df = df[(df['t-shirt'] < 5) & (df['shirt'] < 5)]\n",
    "print(filtered_df)"
   ]
  },
  {
   "cell_type": "code",
   "execution_count": 56,
   "id": "1cd3f7c1",
   "metadata": {},
   "outputs": [
    {
     "name": "stdout",
     "output_type": "stream",
     "text": [
      "    color  t-shirt  shirt\n",
      "0     red        3      3\n",
      "2  yellow        3      3\n",
      "4   black        6      6\n",
      "6     red        1      1\n",
      "8   White        7      7\n"
     ]
    }
   ],
   "source": [
    "import pandas as pd \n",
    "l = {'color': ['red', 'brown', 'yellow','blue','black','green','red','Orange','White','Purple'], 't-shirt': [3,4,3,2,6,3,1,3,7,1], 'shirt': [3,4,3,2,6,3,1,3,7,1]}\n",
    "df = pd.DataFrame(l)\n",
    "print(df.iloc[0::2])"
   ]
  },
  {
   "cell_type": "code",
   "execution_count": 57,
   "id": "15a778c2",
   "metadata": {},
   "outputs": [
    {
     "name": "stdout",
     "output_type": "stream",
     "text": [
      "    color  t-shirt  shirt  total\n",
      "0     red        3      3      6\n",
      "1   brown        4      4      8\n",
      "2  yellow        3      3      6\n",
      "3    blue        2      2      4\n",
      "4   black        6      6     12\n",
      "5   green        3      3      6\n",
      "6     red        1      1      2\n",
      "7  Orange        3      3      6\n",
      "8   White        7      7     14\n",
      "9  Purple        1      1      2\n"
     ]
    }
   ],
   "source": [
    "import pandas as pd \n",
    "l = {'color': ['red', 'brown', 'yellow','blue','black','green','red','Orange','White','Purple'], 't-shirt': [3,4,3,2,6,3,1,3,7,1], 'shirt': [3,4,3,2,6,3,1,3,7,1]}\n",
    "df = pd.DataFrame(l)\n",
    "df['total']=df['t-shirt']+df['shirt'] \n",
    "print(df) "
   ]
  },
  {
   "cell_type": "code",
   "execution_count": 58,
   "id": "8b592795",
   "metadata": {},
   "outputs": [
    {
     "name": "stdout",
     "output_type": "stream",
     "text": [
      "    color  t-shirt  shirt  total\n",
      "0     red        3      3      6\n",
      "1   brown        4      4      8\n",
      "2  yellow        3      3      6\n",
      "3    blue        2      2      4\n",
      "5   green        3      3      6\n",
      "6     red        1      1      2\n",
      "7  Orange        3      3      6\n",
      "9  Purple        1      1      2\n"
     ]
    }
   ],
   "source": [
    "import pandas as pd \n",
    "l = {'color': ['red', 'brown', 'yellow','blue','black','green','red','Orange','White','Purple'], 't-shirt': [3,4,3,2,6,3,1,3,7,1], 'shirt': [3,4,3,2,6,3,1,3,7,1]}\n",
    "df = pd.DataFrame(l)\n",
    "df['total']=df['t-shirt']+df['shirt']  \n",
    "df_filtered = df[df['total'] <= 10]\n",
    "print(df_filtered)"
   ]
  },
  {
   "cell_type": "code",
   "execution_count": 59,
   "id": "34f0fcd7",
   "metadata": {},
   "outputs": [
    {
     "name": "stdout",
     "output_type": "stream",
     "text": [
      "color      red\n",
      "t-shirt      3\n",
      "shirt        3\n",
      "total        6\n",
      "Name: 0, dtype: object\n"
     ]
    }
   ],
   "source": [
    "import pandas as pd \n",
    "l = {'color': ['red', 'brown', 'yellow','blue','black','green','red','Orange','White','Purple'], 't-shirt': [3,4,3,2,6,3,1,3,7,1], 'shirt': [3,4,3,2,6,3,1,3,7,1]}\n",
    "df = pd.DataFrame(l)\n",
    "df['total']=df['t-shirt']+df['shirt']\n",
    "row = 0 \n",
    "print(df.iloc[row])"
   ]
  },
  {
   "cell_type": "code",
   "execution_count": 60,
   "id": "c418afaf",
   "metadata": {},
   "outputs": [
    {
     "name": "stdout",
     "output_type": "stream",
     "text": [
      "0       red\n",
      "1     brown\n",
      "2    yellow\n",
      "3      blue\n",
      "4     black\n",
      "5     green\n",
      "6       red\n",
      "7    Orange\n",
      "8     White\n",
      "9    Purple\n",
      "Name: color, dtype: object\n"
     ]
    }
   ],
   "source": [
    "import pandas as pd \n",
    "l = {'color': ['red', 'brown', 'yellow','blue','black','green','red','Orange','White','Purple'], 't-shirt': [3,4,3,2,6,3,1,3,7,1], 'shirt': [3,4,3,2,6,3,1,3,7,1]}\n",
    "df = pd.DataFrame(l)\n",
    "df['total']=df['t-shirt']+df['shirt']\n",
    "print(df.loc[:,\"color\"] )"
   ]
  },
  {
   "cell_type": "code",
   "execution_count": 61,
   "id": "2696fd9e",
   "metadata": {},
   "outputs": [
    {
     "name": "stdout",
     "output_type": "stream",
     "text": [
      "    color  t-shirt  shirt  total\n",
      "2  yellow        3      3      6\n",
      "9  Purple        1      1      2\n",
      "6     red        1      1      2\n",
      "1   brown        4      4      8\n"
     ]
    }
   ],
   "source": [
    "import pandas as pd \n",
    "l = {'color': ['red', 'brown', 'yellow','blue','black','green','red','Orange','White','Purple'], 't-shirt': [3,4,3,2,6,3,1,3,7,1], 'shirt': [3,4,3,2,6,3,1,3,7,1]}\n",
    "df = pd.DataFrame(l)\n",
    "df['total']=df['t-shirt']+df['shirt']\n",
    "print(df.loc[[2,9,6,1]])"
   ]
  },
  {
   "cell_type": "code",
   "execution_count": 62,
   "id": "dac0c6ff",
   "metadata": {},
   "outputs": [
    {
     "name": "stdout",
     "output_type": "stream",
     "text": [
      "color      White\n",
      "t-shirt        7\n",
      "shirt          7\n",
      "total         14\n",
      "Name: 8, dtype: object\n"
     ]
    }
   ],
   "source": [
    "# 1\n",
    "import pandas as pd \n",
    "l = {'color': ['red', 'brown', 'yellow','blue','black','green','red','Orange','White','Purple'], 't-shirt': [3,4,3,2,6,3,1,3,7,1], 'shirt': [3,4,3,2,6,3,1,3,7,1]}\n",
    "df = pd.DataFrame(l)\n",
    "df['total']=df['t-shirt']+df['shirt']\n",
    "print(df.iloc[8])"
   ]
  },
  {
   "cell_type": "code",
   "execution_count": 63,
   "id": "19559ede",
   "metadata": {},
   "outputs": [
    {
     "data": {
      "text/html": [
       "<div>\n",
       "<style scoped>\n",
       "    .dataframe tbody tr th:only-of-type {\n",
       "        vertical-align: middle;\n",
       "    }\n",
       "\n",
       "    .dataframe tbody tr th {\n",
       "        vertical-align: top;\n",
       "    }\n",
       "\n",
       "    .dataframe thead th {\n",
       "        text-align: right;\n",
       "    }\n",
       "</style>\n",
       "<table border=\"1\" class=\"dataframe\">\n",
       "  <thead>\n",
       "    <tr style=\"text-align: right;\">\n",
       "      <th></th>\n",
       "      <th>color</th>\n",
       "      <th>shirt</th>\n",
       "    </tr>\n",
       "  </thead>\n",
       "  <tbody>\n",
       "    <tr>\n",
       "      <th>0</th>\n",
       "      <td>red</td>\n",
       "      <td>3</td>\n",
       "    </tr>\n",
       "    <tr>\n",
       "      <th>1</th>\n",
       "      <td>brown</td>\n",
       "      <td>4</td>\n",
       "    </tr>\n",
       "    <tr>\n",
       "      <th>2</th>\n",
       "      <td>yellow</td>\n",
       "      <td>3</td>\n",
       "    </tr>\n",
       "    <tr>\n",
       "      <th>3</th>\n",
       "      <td>blue</td>\n",
       "      <td>2</td>\n",
       "    </tr>\n",
       "    <tr>\n",
       "      <th>4</th>\n",
       "      <td>black</td>\n",
       "      <td>6</td>\n",
       "    </tr>\n",
       "    <tr>\n",
       "      <th>5</th>\n",
       "      <td>green</td>\n",
       "      <td>3</td>\n",
       "    </tr>\n",
       "    <tr>\n",
       "      <th>6</th>\n",
       "      <td>red</td>\n",
       "      <td>1</td>\n",
       "    </tr>\n",
       "    <tr>\n",
       "      <th>7</th>\n",
       "      <td>Orange</td>\n",
       "      <td>3</td>\n",
       "    </tr>\n",
       "    <tr>\n",
       "      <th>8</th>\n",
       "      <td>White</td>\n",
       "      <td>7</td>\n",
       "    </tr>\n",
       "    <tr>\n",
       "      <th>9</th>\n",
       "      <td>Purple</td>\n",
       "      <td>1</td>\n",
       "    </tr>\n",
       "  </tbody>\n",
       "</table>\n",
       "</div>"
      ],
      "text/plain": [
       "    color  shirt\n",
       "0     red      3\n",
       "1   brown      4\n",
       "2  yellow      3\n",
       "3    blue      2\n",
       "4   black      6\n",
       "5   green      3\n",
       "6     red      1\n",
       "7  Orange      3\n",
       "8   White      7\n",
       "9  Purple      1"
      ]
     },
     "execution_count": 63,
     "metadata": {},
     "output_type": "execute_result"
    }
   ],
   "source": [
    "import pandas as pd\n",
    "l = {'color': ['red', 'brown', 'yellow','blue','black','green','red','Orange','White','Purple'], 't-shirt': [3,4,3,2,6,3,1,3,7,1], 'shirt': [3,4,3,2,6,3,1,3,7,1]}\n",
    "df = pd.DataFrame(l)\n",
    "df['total']=df['t-shirt']+df['shirt']\n",
    "df.iloc[:,[0,2]]"
   ]
  },
  {
   "cell_type": "code",
   "execution_count": 64,
   "id": "0c0a9d8c",
   "metadata": {},
   "outputs": [
    {
     "data": {
      "text/html": [
       "<div>\n",
       "<style scoped>\n",
       "    .dataframe tbody tr th:only-of-type {\n",
       "        vertical-align: middle;\n",
       "    }\n",
       "\n",
       "    .dataframe tbody tr th {\n",
       "        vertical-align: top;\n",
       "    }\n",
       "\n",
       "    .dataframe thead th {\n",
       "        text-align: right;\n",
       "    }\n",
       "</style>\n",
       "<table border=\"1\" class=\"dataframe\">\n",
       "  <thead>\n",
       "    <tr style=\"text-align: right;\">\n",
       "      <th></th>\n",
       "      <th>color</th>\n",
       "      <th>t-shirt</th>\n",
       "      <th>shirt</th>\n",
       "      <th>total</th>\n",
       "    </tr>\n",
       "  </thead>\n",
       "  <tbody>\n",
       "    <tr>\n",
       "      <th>1</th>\n",
       "      <td>brown</td>\n",
       "      <td>4</td>\n",
       "      <td>4</td>\n",
       "      <td>8</td>\n",
       "    </tr>\n",
       "    <tr>\n",
       "      <th>4</th>\n",
       "      <td>black</td>\n",
       "      <td>6</td>\n",
       "      <td>6</td>\n",
       "      <td>12</td>\n",
       "    </tr>\n",
       "    <tr>\n",
       "      <th>8</th>\n",
       "      <td>White</td>\n",
       "      <td>7</td>\n",
       "      <td>7</td>\n",
       "      <td>14</td>\n",
       "    </tr>\n",
       "  </tbody>\n",
       "</table>\n",
       "</div>"
      ],
      "text/plain": [
       "   color  t-shirt  shirt  total\n",
       "1  brown        4      4      8\n",
       "4  black        6      6     12\n",
       "8  White        7      7     14"
      ]
     },
     "execution_count": 64,
     "metadata": {},
     "output_type": "execute_result"
    }
   ],
   "source": [
    "df.iloc[list(df['total']>=8)]"
   ]
  },
  {
   "cell_type": "code",
   "execution_count": 65,
   "id": "28680807",
   "metadata": {},
   "outputs": [
    {
     "name": "stdout",
     "output_type": "stream",
     "text": [
      "             COMPANY NAME       CITY    STATE WEBSITE CONTACT NUMBER\n",
      "0        Balaji jewellers     Talala  Gujarat     NaN            NaN\n",
      "4      Tirthraj jewellers    Veraval  Gujarat     NaN            NaN\n",
      "6          Sagar Jewelers  Sutrapada  Gujarat     NaN            NaN\n",
      "9        Kumkum jewellers    Diyodar  Gujarat     NaN            NaN\n",
      "10    Bholenath Jewellers     Keshod  Gujarat     NaN            NaN\n",
      "...                   ...        ...      ...     ...            ...\n",
      "1488     RAMJI VELJI SONI   Kutiyana  Gujarat     NaN            NaN\n",
      "1489     Deepak Jewellers     Tukada  Gujarat     NaN            NaN\n",
      "1498     Dhaval Jewellers     Rajkot  Gujarat     NaN            NaN\n",
      "1500       Riya Jewellers     Rajkot  Gujarat     NaN            NaN\n",
      "1502      krupa jewellers     Rajkot  Gujarat     NaN            NaN\n",
      "\n",
      "[572 rows x 5 columns]\n"
     ]
    }
   ],
   "source": [
    "import pandas as pd\n",
    "l=pd.read_csv(r\"C:\\Users\\DELL\\Desktop\\DEMO.csv\")\n",
    "df = pd.DataFrame(l)\n",
    "null = df[df.iloc[:, 4].isnull()]\n",
    "print(null)"
   ]
  },
  {
   "cell_type": "code",
   "execution_count": 68,
   "id": "240ff178",
   "metadata": {
    "scrolled": false
   },
   "outputs": [
    {
     "name": "stdout",
     "output_type": "stream",
     "text": [
      "               COMPANY NAME     CITY    STATE WEBSITE CONTACT NUMBER\n",
      "0          Balaji jewellers   Talala  Gujarat     NaN           abcd\n",
      "1            Brij Jewellers   Talala  Gujarat     NaN    99790 47450\n",
      "2        vatsalya Jewellers   Talala  Gujarat     NaN    77780 85372\n",
      "3     Jay Somnath Jewellers   Talala  Gujarat     NaN    97122 84884\n",
      "4        Tirthraj jewellers  Veraval  Gujarat     NaN           abcd\n",
      "...                     ...      ...      ...     ...            ...\n",
      "1498       Dhaval Jewellers   Rajkot  Gujarat     NaN           abcd\n",
      "1499       Vishal Jewellers   Rajkot  Gujarat     NaN    98245 94147\n",
      "1500         Riya Jewellers   Rajkot  Gujarat     NaN           abcd\n",
      "1501     Madhuvan Jewellers   Rajkot  Gujarat     NaN   281 223 2681\n",
      "1502        krupa jewellers   Rajkot  Gujarat     NaN           abcd\n",
      "\n",
      "[1503 rows x 5 columns]\n",
      "               COMPANY NAME     CITY    STATE WEBSITE CONTACT NUMBER\n",
      "0          Balaji jewellers   Talala  Gujarat     NaN            NaN\n",
      "1            Brij Jewellers   Talala  Gujarat     NaN    99790 47450\n",
      "2        vatsalya Jewellers   Talala  Gujarat     NaN    77780 85372\n",
      "3     Jay Somnath Jewellers   Talala  Gujarat     NaN    97122 84884\n",
      "4        Tirthraj jewellers  Veraval  Gujarat     NaN            NaN\n",
      "...                     ...      ...      ...     ...            ...\n",
      "1498       Dhaval Jewellers   Rajkot  Gujarat     NaN            NaN\n",
      "1499       Vishal Jewellers   Rajkot  Gujarat     NaN    98245 94147\n",
      "1500         Riya Jewellers   Rajkot  Gujarat     NaN            NaN\n",
      "1501     Madhuvan Jewellers   Rajkot  Gujarat     NaN   281 223 2681\n",
      "1502        krupa jewellers   Rajkot  Gujarat     NaN            NaN\n",
      "\n",
      "[1311 rows x 5 columns]\n"
     ]
    }
   ],
   "source": [
    "import pandas as pd\n",
    "df = pd.read_csv(r\"C:\\Users\\DELL\\Desktop\\DEMO.csv\")\n",
    "null_rows = df[df.iloc[:, 3].isnull()]\n",
    "df.iloc[:, 4].fillna(\"abcd\", inplace=True)\n",
    "print(df)\n",
    "print(null_rows)"
   ]
  },
  {
   "cell_type": "code",
   "execution_count": 1,
   "id": "9fb869a9",
   "metadata": {},
   "outputs": [
    {
     "name": "stdout",
     "output_type": "stream",
     "text": [
      "                                           COMPANY NAME  \\\n",
      "76    Balaji Jewellers - Best Jewellery Showroom in ...   \n",
      "100     Panchal Rasiklal Narandas (Ranervala) Jewellers   \n",
      "121   K VIRCHANDBHAI GOLD PALACE (MANUNDWALA)-BEST J...   \n",
      "131                                   Rakshit jewellers   \n",
      "133            Choksi Dashrathlal Ranchhodlal Jewellers   \n",
      "...                                                 ...   \n",
      "1485                                    Sonal Jewellers   \n",
      "1491  Jogia Jeweler's - Best Diamond Jewellery Showr...   \n",
      "1492  ???????????????? ???????????? - Best Jewellers...   \n",
      "1494                                     Shiv Jewellers   \n",
      "1495                                  Namrata Jewellers   \n",
      "\n",
      "                        CITY    STATE  \\\n",
      "76                       Una  Gujarat   \n",
      "100   Patan, Gungdipati Part  Gujarat   \n",
      "121   Patan, Gungdipati Part  Gujarat   \n",
      "131                  Veraval  Gujarat   \n",
      "133   Patan, Gungdipati Part  Gujarat   \n",
      "...                      ...      ...   \n",
      "1485               Porbandar  Gujarat   \n",
      "1491               Porbandar  Gujarat   \n",
      "1492               Porbandar  Gujarat   \n",
      "1494               Porbandar  Gujarat   \n",
      "1495               Porbandar  Gujarat   \n",
      "\n",
      "                                                WEBSITE CONTACT NUMBER  \n",
      "76    https://website--7119184878500352152250-jewelr...    94289 50263  \n",
      "100   https://sites.google.com/view/ranervalajewelle...    97251 54502  \n",
      "121                       http://www.kvirchandbhai.com/    98245 50851  \n",
      "131      https://www.instagram.com/rakshitjewellers916/    98793 77776  \n",
      "133   https://choksi-dashrathlal-ranchhodlal-jewelle...    76988 76871  \n",
      "...                                                 ...            ...  \n",
      "1485  https://website--3827310146334368232190-jewelr...    70164 78311  \n",
      "1491                     http://www.jogiajewellers.com/    98257 81656  \n",
      "1492            https://www.facebook.com/ashapurajewels    98255 90121  \n",
      "1494    https://shiv-jewellers-goldsmith.business.site/    94277 34942  \n",
      "1495            http://sites.google.com/view/myjeweller    94091 24501  \n",
      "\n",
      "[131 rows x 5 columns]\n"
     ]
    }
   ],
   "source": [
    "import pandas as pd  \n",
    "df = pd.read_csv(r\"C:\\Users\\DELL\\Desktop\\DEMO.csv\")\n",
    "remove_null = df.dropna()\n",
    "print(remove_null)"
   ]
  },
  {
   "cell_type": "code",
   "execution_count": 6,
   "id": "27f12d61",
   "metadata": {},
   "outputs": [
    {
     "name": "stdout",
     "output_type": "stream",
     "text": [
      "                                           COMPANY NAME  \\\n",
      "76    Balaji Jewellers - Best Jewellery Showroom in ...   \n",
      "100     Panchal Rasiklal Narandas (Ranervala) Jewellers   \n",
      "121   K VIRCHANDBHAI GOLD PALACE (MANUNDWALA)-BEST J...   \n",
      "131                                   Rakshit jewellers   \n",
      "133            Choksi Dashrathlal Ranchhodlal Jewellers   \n",
      "...                                                 ...   \n",
      "1485                                    Sonal Jewellers   \n",
      "1491  Jogia Jeweler's - Best Diamond Jewellery Showr...   \n",
      "1492  ???????????????? ???????????? - Best Jewellers...   \n",
      "1494                                     Shiv Jewellers   \n",
      "1495                                  Namrata Jewellers   \n",
      "\n",
      "                        CITY    STATE  \\\n",
      "76                       Una  Gujarat   \n",
      "100   Patan, Gungdipati Part  Gujarat   \n",
      "121   Patan, Gungdipati Part  Gujarat   \n",
      "131                  Veraval  Gujarat   \n",
      "133   Patan, Gungdipati Part  Gujarat   \n",
      "...                      ...      ...   \n",
      "1485               Porbandar  Gujarat   \n",
      "1491               Porbandar  Gujarat   \n",
      "1492               Porbandar  Gujarat   \n",
      "1494               Porbandar  Gujarat   \n",
      "1495               Porbandar  Gujarat   \n",
      "\n",
      "                                                WEBSITE CONTACT NUMBER  \n",
      "76    https://website--7119184878500352152250-jewelr...    94289 50263  \n",
      "100   https://sites.google.com/view/ranervalajewelle...    97251 54502  \n",
      "121                       http://www.kvirchandbhai.com/    98245 50851  \n",
      "131      https://www.instagram.com/rakshitjewellers916/    98793 77776  \n",
      "133   https://choksi-dashrathlal-ranchhodlal-jewelle...    76988 76871  \n",
      "...                                                 ...            ...  \n",
      "1485  https://website--3827310146334368232190-jewelr...    70164 78311  \n",
      "1491                     http://www.jogiajewellers.com/    98257 81656  \n",
      "1492            https://www.facebook.com/ashapurajewels    98255 90121  \n",
      "1494    https://shiv-jewellers-goldsmith.business.site/    94277 34942  \n",
      "1495            http://sites.google.com/view/myjeweller    94091 24501  \n",
      "\n",
      "[131 rows x 5 columns]\n"
     ]
    }
   ],
   "source": [
    "remove_null = df.loc[~df.isnull().any(axis=1)]\n",
    "print(remove_null)"
   ]
  }
 ],
 "metadata": {
  "kernelspec": {
   "display_name": "Python 3 (ipykernel)",
   "language": "python",
   "name": "python3"
  },
  "language_info": {
   "codemirror_mode": {
    "name": "ipython",
    "version": 3
   },
   "file_extension": ".py",
   "mimetype": "text/x-python",
   "name": "python",
   "nbconvert_exporter": "python",
   "pygments_lexer": "ipython3",
   "version": "3.11.5"
  }
 },
 "nbformat": 4,
 "nbformat_minor": 5
}
